import re
import nltk
import string
import heapq
import wikipedia
import requests
from bs4 import BeautifulSoup

nltk.download('punkt')
nltk.download('stopwords')
wikipedia.set_lang("en")

# get article text
from goose3 import Goose
