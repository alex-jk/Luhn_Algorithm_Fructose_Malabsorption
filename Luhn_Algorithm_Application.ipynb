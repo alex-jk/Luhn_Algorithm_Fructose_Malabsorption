{
 "cells": [
  {
   "cell_type": "markdown",
   "id": "1c75c83c",
   "metadata": {},
   "source": [
    "## Luhn Algorithm Application"
   ]
  },
  {
   "cell_type": "markdown",
   "id": "f528f184",
   "metadata": {},
   "source": [
    "The Luhn algorithm is a text summarization technique that uses statistical properties of the text to identify and extract the most important sentences from a document. The algorithm was developed by H.P. Luhn in the 1950s, and is still widely used in various forms today.\n",
    "\n",
    "Below I summarize the topic of fructose malabsorption by generating a summary using the Luhn algorithm. To create the summary, I selected several articles from sources like Wikipedia and PubMed. The important words were selected based on their total frequency in all of the text. I chose the top 25 words to focus on, and then used the algorithm to identify the most important sentences based on the frequency and distribution of these words. The summary was generated using the top 15 sentences."
   ]
  },
  {
   "cell_type": "markdown",
   "id": "2c192592",
   "metadata": {},
   "source": [
    "#### Import libraries"
   ]
  },
  {
   "cell_type": "code",
   "execution_count": 1,
   "id": "39e2e26f",
   "metadata": {},
   "outputs": [
    {
     "name": "stderr",
     "output_type": "stream",
     "text": [
      "[nltk_data] Downloading package punkt to\n",
      "[nltk_data]     C:\\Users\\Joukovaa\\AppData\\Roaming\\nltk_data...\n",
      "[nltk_data]   Package punkt is already up-to-date!\n",
      "[nltk_data] Downloading package stopwords to\n",
      "[nltk_data]     C:\\Users\\Joukovaa\\AppData\\Roaming\\nltk_data...\n",
      "[nltk_data]   Package stopwords is already up-to-date!\n"
     ]
    }
   ],
   "source": [
    "import re\n",
    "import nltk\n",
    "import string\n",
    "import heapq\n",
    "import wikipedia\n",
    "import requests\n",
    "from bs4 import BeautifulSoup\n",
    "\n",
    "nltk.download('punkt')\n",
    "nltk.download('stopwords')\n",
    "wikipedia.set_lang(\"en\")\n",
    "\n",
    "# get article text\n",
    "from goose3 import Goose"
   ]
  },
  {
   "cell_type": "markdown",
   "id": "71595ff9",
   "metadata": {},
   "source": [
    "#### Get pubmed and wiki articles on the topic of fructose malabsorption"
   ]
  },
  {
   "cell_type": "code",
   "execution_count": 2,
   "id": "a14fa547",
   "metadata": {},
   "outputs": [],
   "source": [
    "# article list\n",
    "article_list = ['https://pubmed.ncbi.nlm.nih.gov/11336160/',\n",
    "                'https://pubmed.ncbi.nlm.nih.gov/28965810/'\n",
    "                ]\n",
    "wiki_article_title = \"Fructose malabsorption\"\n",
    "\n",
    "page = wikipedia.page(wiki_article_title)\n",
    "wiki_article_text = page.content\n",
    "\n",
    "article_text_list = []\n",
    "article_text_list.append(wiki_article_text)"
   ]
  },
  {
   "cell_type": "markdown",
   "id": "1f251a79",
   "metadata": {},
   "source": [
    "#### Get articles' text"
   ]
  },
  {
   "cell_type": "code",
   "execution_count": 3,
   "id": "008807ce",
   "metadata": {},
   "outputs": [
    {
     "name": "stdout",
     "output_type": "stream",
     "text": [
      "Fructose malabsorption, formerly named dietary fructose intolerance (DFI), is a digestive disorder in which absorption of fructose is impaired by deficient fructose carriers in the small intestine's enterocytes. This results in an increased concentration of fructose. Intolerance to fructose was first identified and reported in 1956.Similarity in symptoms means that patients with fructose malabsorption often fit the profile of those with irritable bowel syndrome.Fructose malabsorption is not to be confused with hereditary fructose intolerance, a potentially fatal condition in which the liver enzymes that break up fructose are deficient. Hereditary fructose intolerance is quite rare, affecting\n"
     ]
    }
   ],
   "source": [
    "print(wiki_article_text[:700])"
   ]
  },
  {
   "cell_type": "code",
   "execution_count": 4,
   "id": "ade1bf63",
   "metadata": {},
   "outputs": [
    {
     "name": "stdout",
     "output_type": "stream",
     "text": [
      "\n",
      "current url: https://pubmed.ncbi.nlm.nih.gov/11336160/\n",
      "Background: Fructose malabsorption is characterized by the inability to absorb fructose efficiently. As a consequence fructose reaches the colon where it is broken down by bacteria to short fatty acids, CO2, H2, CH4 and lactic acid. Bloating, cramps, osmotic diarrhea and other symptoms of irritable bowel syndrome are the consequence and can be seen in about 50% of fructose malabsorbers. Recently it was found that fructose malabsorption was associated with early signs of depressive disorders. Therefore, it was investigated whether fructose malabsorption is associated with abnormal tryptophan metabolism.\n",
      "\n",
      "Methods: Fifty adults (16 men, 34 women) with gastrointestinal discomfort were analyzed by measuring breath hydrogen concentrations after an oral dose of 50 g fructose after an overnight fast. They were classified as normals or fructose malabsorbers according to their breath H2 concentrations. All patients filled out a Beck depression inventory questionnaire. Blood samples were taken for plasma tryptophan and kynurenine measurements.\n",
      "\n",
      "Results: Fructose malabsorption (breath deltaH2 production >20 ppm) was detected in 35 of 50 individuals (70%). Subjects with fructose malabsorption showed significantly lower plasma tryptophan concentrations and significantly higher scores in the Beck depression inventory compared to those with normal fructose absorption.\n",
      "\n",
      "Conclusions: Fructose malabsorption is associated with lower tryptophan levels that may play a role in the development of depressive disorders. High intestinal fructose concentration seems to interfere with L-tryptophan metabolism, and it may reduce availability of tryptophan for the biosynthesis of serotonin (5-hydroxytryptamine). Fructose malabsorption should be considered in patients with symptoms of depression and disturbances of tryptophan metabolism.\n",
      "\n",
      "current url: https://pubmed.ncbi.nlm.nih.gov/28965810/\n",
      "This prospective cross-sectional study aimed to investigate the potential association between primary-adult lactose malabsorption, fructose malabsorption, tryptophan (TRP) metabolism and the presence of depressive signs. Overall 251 patients, who were referred for lactase gene C/T polymorphism genotyping and fructose hydrogen/methane breath testing, were included. All participants filled out the Beck Depression Inventory (BDI II). Serum concentrations of tryptophan (TRP), kynurenine (KYN), kynuric acid (KYNA), and TRP competing amino acids (leucine, isoleucine, valine, phenylalanine, tyrosine) were measured by high-pressure liquid-chromatography. Logistic regression analysis was performed with lactose malabsorption, fructose malabsorption and all potential biomarkers of TRP metabolism to assess the effect on signs of depression, defined as a BDI II score > 13. Primary-adult lactose malabsorption and fructose malabsorption was detected in 65 (25.90%) and 65 (25.90%) patients, respectively. Fructose malabsorption was significantly associated with BDI II score, whereas no such relationship was found for lactose malabsorption. Serum levels of TRP and TRP metabolites were no predictors of depression. The authors suggest to conduct further prospective longitudinal studies in order to get further insight of associations between carbohydrate malabsorption, biomarkers and mood disorders.\n"
     ]
    }
   ],
   "source": [
    "for url in article_list:\n",
    "    try:\n",
    "        response = requests.get(url)\n",
    "        soup = BeautifulSoup(response.content, 'html.parser')\n",
    "        article_html = str(soup.find_all('div', {'class': 'abstract-content selected'})[0])\n",
    "        g = Goose()\n",
    "        article = g.extract(raw_html=article_html)\n",
    "        print(\"\\ncurrent url: %s\" % url)\n",
    "        print(article.cleaned_text)\n",
    "        article_text_list.append(article.cleaned_text)\n",
    "    except Exception as e:\n",
    "        print(f\"Error: Could not find article in {url}: {e}\")"
   ]
  },
  {
   "cell_type": "markdown",
   "id": "6f604c9d",
   "metadata": {},
   "source": [
    "#### Get English stopwords\n",
    "Stopwords are common words like 'the', 'a', 'and', etc., that are considered to be of little value in text analysis because they occur frequently in the language and do not carry significant meaning. Removing stopwords helps in reducing the dimensionality of the data, speeding up the analysis, and improving the performance of natural language processing tasks such as text summarization, topic modeling, and text classification. It helps the model to focus on the important words, which are usually more indicative of the content of the text."
   ]
  },
  {
   "cell_type": "code",
   "execution_count": 5,
   "id": "b3b64c25",
   "metadata": {},
   "outputs": [
    {
     "name": "stdout",
     "output_type": "stream",
     "text": [
      "['i', 'me', 'my', 'myself', 'we', 'our', 'ours', 'ourselves', 'you', \"you're\", \"you've\", \"you'll\", \"you'd\", 'your', 'yours', 'yourself', 'yourselves', 'he', 'him', 'his', 'himself', 'she', \"she's\", 'her', 'hers', 'herself', 'it', \"it's\", 'its', 'itself', 'they', 'them', 'their', 'theirs', 'themselves', 'what', 'which', 'who', 'whom', 'this', 'that', \"that'll\", 'these', 'those', 'am', 'is', 'are', 'was', 'were', 'be', 'been', 'being', 'have', 'has', 'had', 'having', 'do', 'does', 'did', 'doing', 'a', 'an', 'the', 'and', 'but', 'if', 'or', 'because', 'as', 'until', 'while', 'of', 'at', 'by', 'for', 'with', 'about', 'against', 'between', 'into', 'through', 'during', 'before', 'after', 'above', 'below', 'to', 'from', 'up', 'down', 'in', 'out', 'on', 'off', 'over', 'under', 'again', 'further', 'then', 'once', 'here', 'there', 'when', 'where', 'why', 'how', 'all', 'any', 'both', 'each', 'few', 'more', 'most', 'other', 'some', 'such', 'no', 'nor', 'not', 'only', 'own', 'same', 'so', 'than', 'too', 'very', 's', 't', 'can', 'will', 'just', 'don', \"don't\", 'should', \"should've\", 'now', 'd', 'll', 'm', 'o', 're', 've', 'y', 'ain', 'aren', \"aren't\", 'couldn', \"couldn't\", 'didn', \"didn't\", 'doesn', \"doesn't\", 'hadn', \"hadn't\", 'hasn', \"hasn't\", 'haven', \"haven't\", 'isn', \"isn't\", 'ma', 'mightn', \"mightn't\", 'mustn', \"mustn't\", 'needn', \"needn't\", 'shan', \"shan't\", 'shouldn', \"shouldn't\", 'wasn', \"wasn't\", 'weren', \"weren't\", 'won', \"won't\", 'wouldn', \"wouldn't\"]\n"
     ]
    }
   ],
   "source": [
    "stopwords = nltk.corpus.stopwords.words('english')\n",
    "print(stopwords)"
   ]
  },
  {
   "cell_type": "markdown",
   "id": "197822ab",
   "metadata": {},
   "source": [
    "#### Preprocess text\n",
    "The preprocess function cleans a given text by converting it to lowercase, tokenizing it into words, and removing stopwords and punctuation. The cleaned and processed text is then returned as a single string. This function is essential for preparing text data for further natural language processing tasks."
   ]
  },
  {
   "cell_type": "code",
   "execution_count": 6,
   "id": "5080d896",
   "metadata": {},
   "outputs": [
    {
     "name": "stdout",
     "output_type": "stream",
     "text": [
      "fructose malabsorption formerly named dietary fructose intolerance dfi digestive disorder absorption fructose impaired deficient fructose carriers small intestines enterocytes results increased concentration fructose intolerance fructose first identified reported 1956similarity symptoms means patients fructose malabsorption often fit profile irritable bowel syndromefructose malabsorption confused hereditary fructose intolerance potentially fatal condition liver enzymes break fructose deficient hereditary fructose intolerance quite rare affecting 1 20000 30000 people symptoms signs fructose malabsorption may cause gastrointestinal symptoms abdominal pain bloating flatulence diarrhea pathophysiology fructose absorbed small intestine without h\n"
     ]
    }
   ],
   "source": [
    "def preprocess(text):\n",
    "    text = re.sub(r'[^a-zA-Z0-9 ]', '', text)\n",
    "    formatted_text = text.lower()\n",
    "    tokens = []\n",
    "    for token in nltk.word_tokenize(formatted_text):\n",
    "        tokens.append(token)\n",
    "    tokens = [word for word in tokens if word not in stopwords and word not in string.punctuation]\n",
    "    formatted_text = ' '.join(element for element in tokens)\n",
    "    \n",
    "    return formatted_text\n",
    "\n",
    "formatted_article_list = [preprocess(article_text) for article_text in article_text_list]\n",
    "print(formatted_article_list[0][0:750])"
   ]
  },
  {
   "cell_type": "markdown",
   "id": "cba7770d",
   "metadata": {},
   "source": [
    "#### Calculate sentences score function\n",
    "The calculate_sentences_score function calculates the importance score of each sentence in a list of sentences.\n",
    "\n",
    "It takes three parameters: sentences (a list of sentences), important_words (a list of words considered important), and distance (a threshold for grouping words in a sentence).\n",
    "It tokenizes each sentence into words.\n",
    "For each sentence, it finds the indices of the important words in the sentence.\n",
    "It groups the indices of the important words based on the distance parameter. For example, if distance is 2, then indices [0, 1, 5] will be grouped into [[0, 1], [5]].\n",
    "For each group of indices, it calculates a score based on the number of important words in the group and the total number of words in the group.\n",
    "The maximum score among all groups in a sentence is considered as the score of the sentence.\n",
    "It returns a list of tuples, each containing the score of a sentence and its index in the list of sentences.\n",
    "This function is used to rank the sentences in the text based on the occurrence of important words, which is useful for text summarization."
   ]
  },
  {
   "cell_type": "code",
   "execution_count": 7,
   "id": "f7fddd48",
   "metadata": {},
   "outputs": [],
   "source": [
    "# Function to calculate sentences score\n",
    "def calculate_sentences_score(sentences, important_words, distance):\n",
    "  scores = []\n",
    "  sentence_index = 0\n",
    "\n",
    "  for sentence in [nltk.word_tokenize(sentence) for sentence in sentences]:\n",
    "    #print('------------')\n",
    "    #print(sentence)\n",
    "\n",
    "    word_index = []\n",
    "    for word in important_words:\n",
    "      #print(word)\n",
    "      try:\n",
    "        word_index.append(sentence.index(word))\n",
    "      except ValueError:\n",
    "        pass\n",
    "\n",
    "    word_index.sort()\n",
    "    #print(word_index)\n",
    "\n",
    "    if len(word_index) == 0:\n",
    "      continue\n",
    "\n",
    "    # [0, 1, 5]\n",
    "    groups_list = []\n",
    "    group = [word_index[0]]\n",
    "    i = 1 # 3\n",
    "    while i < len(word_index): # 3\n",
    "      # first execution: 1 - 0 = 1\n",
    "      # second execution: 2 - 1 = 1\n",
    "      if word_index[i] - word_index[i - 1] < distance:\n",
    "        group.append(word_index[i])\n",
    "        #print('group', group)\n",
    "      else:\n",
    "        groups_list.append(group[:])\n",
    "        group = [word_index[i]]\n",
    "        #print('group', group)\n",
    "      i += 1\n",
    "    groups_list.append(group)\n",
    "    #print('all groups', groups_list)\n",
    "\n",
    "    max_group_score = 0\n",
    "    for g in groups_list:\n",
    "      #print(g)\n",
    "      important_words_in_group = len(g)\n",
    "      total_words_in_group = g[-1] - g[0] + 1\n",
    "      score = 1.0 * important_words_in_group**2 / total_words_in_group\n",
    "      #print('group score', score)\n",
    "\n",
    "      if score > max_group_score:\n",
    "        max_group_score = score\n",
    "\n",
    "    scores.append((max_group_score, sentence_index))\n",
    "    sentence_index += 1\n",
    "\n",
    "  #print('final scores', scores)\n",
    "  return scores"
   ]
  },
  {
   "cell_type": "markdown",
   "id": "29d785ab",
   "metadata": {},
   "source": [
    "\n",
    "#### Funcion to summarize the text\n",
    "The summarize function generates a summary of a given text.\n",
    "\n",
    "It takes five parameters: text (the text to be summarized), top_n_words (the number of most common words to consider as important), distance (a threshold for grouping words in a sentence), number_of_sentences (the number of sentences to include in the summary), and percentage (an optional parameter to specify the percentage of sentences to include in the summary).\n",
    "It tokenizes the text into sentences and words, and preprocesses the sentences to remove stopwords and punctuation.\n",
    "It calculates the frequency of each word in the text and selects the top_n_words most common words as important words.\n",
    "It calculates the score of each sentence using the calculate_sentences_score function.\n",
    "It selects the number_of_sentences highest-scoring sentences, or if percentage is provided, it selects the highest-scoring sentences that make up the specified percentage of the total number of sentences.\n",
    "It returns the list of all original sentences, the selected best sentences, and the scores of all sentences.\n",
    "This function is used to generate a summary of the text by selecting the most important sentences based on the occurrence of important words."
   ]
  },
  {
   "cell_type": "code",
   "execution_count": 26,
   "id": "01b3cb75",
   "metadata": {},
   "outputs": [
    {
     "name": "stdout",
     "output_type": "stream",
     "text": [
      "Best sentences:\n",
      "\n",
      "Fructose malabsorption may cause gastrointestinal symptoms such as abdominal pain bloating flatulence or diarrhea.\n",
      "Foods with 3 g of fructose per serving are termed a high fructose load and possibly present a risk of inducing symptoms.\n",
      "This can cause some surprises and pitfalls for fructose malabsorbers.\n",
      "Foodlabeling .\n",
      "Other fruits ripe banana jackfruit passion fruit pineapple rhubarb tamarillo.\n",
      "Citrus fruit kumquat grapefruit lemon lime mandarin orange tangelo.\n",
      "Berry fruit blackberry boysenberry cranberry raspberry strawberry loganberry.\n",
      "Stone fruit apricot nectarine peach plum caution  these fruits contain sorbitol.\n",
      "The following list of favorable foods was cited in the paper Fructose malabsorption and symptoms of Irritable Bowel Syndrome Guidelines for effective dietary management.\n",
      "Foods containing added sugars such as agave nectar some corn syrups and fruit juice concentrates.\n"
     ]
    }
   ],
   "source": [
    "# Function to summarize the text\n",
    "def summarize(text, top_n_words, distance, number_of_sentences, percentage = 0):\n",
    "    #text = text.replace('==', '.')\n",
    "    text = text.replace(';', '.').replace('\\n', '.').replace('\\t', '.')\n",
    "    text = re.sub(r'\\.{2,}', '.', text)\n",
    "    text = re.sub(r'\\.([A-Z])', r'. \\1', text)\n",
    "    text = re.sub(r'[^a-zA-Z0-9 .!?;]', '', text)\n",
    "    original_sentences = [sentence for sentence in nltk.sent_tokenize(text)]\n",
    "    \n",
    "    #print(original_sentences)\n",
    "    formatted_sentences = [preprocess(original_sentence) for original_sentence in original_sentences]\n",
    "    #print(formatted_sentences)\n",
    "    words = [word for sentence in formatted_sentences for word in nltk.word_tokenize(sentence)]\n",
    "    #print(words)\n",
    "    frequency = nltk.FreqDist(words)\n",
    "    #print(frequency)\n",
    "    #return frequency\n",
    "    top_n_words = [word[0] for word in frequency.most_common(top_n_words)]\n",
    "    #print(top_n_words)\n",
    "    sentences_score = calculate_sentences_score(formatted_sentences, top_n_words, distance)\n",
    "    #print(sentences_score)\n",
    "    if percentage > 0:\n",
    "      best_sentences = heapq.nlargest(int(len(formatted_sentences) * percentage), sentences_score)\n",
    "    else:  \n",
    "      best_sentences = heapq.nlargest(number_of_sentences, sentences_score)\n",
    "    #print(best_sentences)\n",
    "    best_sentences_fmtd = [original_sentences[i] for (score, i) in best_sentences]\n",
    "    \n",
    "    return original_sentences, best_sentences_fmtd, sentences_score\n",
    "\n",
    "original_sentences, best_sentences, sentences_score = summarize(article_text_list[0], 25, 2, 10)\n",
    "\n",
    "print('Best sentences:\\n')\n",
    "for sentence in best_sentences:\n",
    "    print(sentence)"
   ]
  },
  {
   "cell_type": "markdown",
   "id": "31418976",
   "metadata": {},
   "source": [
    "#### Concatenate all the articles into a single string"
   ]
  },
  {
   "cell_type": "code",
   "execution_count": 28,
   "id": "6b9f0401",
   "metadata": {},
   "outputs": [],
   "source": [
    "# Concatenate all the articles into a single string\n",
    "all_text = \"\"\n",
    "for article_text in article_text_list:\n",
    "    all_text += article_text"
   ]
  },
  {
   "cell_type": "markdown",
   "id": "68a49533",
   "metadata": {},
   "source": [
    "#### Summarize the concatenated text"
   ]
  },
  {
   "cell_type": "code",
   "execution_count": 31,
   "id": "c343b7c2",
   "metadata": {},
   "outputs": [],
   "source": [
    "# Summarize the concatenated text\n",
    "original_sentences, best_sentences, sentences_score = summarize(all_text, 25, 2, number_of_sentences=25)"
   ]
  },
  {
   "cell_type": "code",
   "execution_count": 32,
   "id": "c1797c47",
   "metadata": {},
   "outputs": [
    {
     "name": "stdout",
     "output_type": "stream",
     "text": [
      "Best sentences:\n",
      "\n",
      "Fructose malabsorption may cause gastrointestinal symptoms such as abdominal pain bloating flatulence or diarrhea.\n",
      "Nevertheless its longterm followup can have negative effects because it causes a detrimental impact on the gut microbiota and metabolome.\n",
      "This can cause some surprises and pitfalls for fructose malabsorbers.\n",
      "Foodlabeling .\n",
      "Other fruits ripe banana jackfruit passion fruit pineapple rhubarb tamarillo.\n",
      "Citrus fruit kumquat grapefruit lemon lime mandarin orange tangelo.\n",
      "Berry fruit blackberry boysenberry cranberry raspberry strawberry loganberry.\n",
      "Stone fruit apricot nectarine peach plum caution  these fruits contain sorbitol.\n",
      "The following list of favorable foods was cited in the paper Fructose malabsorption and symptoms of Irritable Bowel Syndrome Guidelines for effective dietary management.\n",
      "Researchers at Monash University in Australia developed dietary guidelines for managing fructose malabsorption particularly for individuals with IBS.\n",
      "Glucose enhances absorption of fructose so fructose from foods with fructosetoglucose ratio 1 like white potatoes are readily absorbed whereas foods with fructosetoglucose ratio 1 like apples and pears are often problematic regardless of the total amount of fructose in the food.\n",
      "Foods with high fructosetoglucose ratio.\n",
      "However the concept of a high fructose load has not been evaluated in terms of its importance in the success of the diet.\n",
      "Foods with 3 g of fructose per serving are termed a high fructose load and possibly present a risk of inducing symptoms.\n",
      "Dietary supplements .\n",
      "Reducing prolonged overall sitting time may reduce metabolic disturbances.\n",
      "This can lead to issues such as bloating heartburn and constipation.\n",
      "It is called a hydrogen breath test and is the method currently used for a clinical diagnosis.\n",
      "Even in healthy persons however only about 2550 g of fructose per sitting can be properly absorbed.\n",
      "Similarity in symptoms means that patients with fructose malabsorption often fit the profile of those with irritable bowel syndrome.\n",
      "Recently it was found that fructose malabsorption was associated with early signs of depressive disorders.\n",
      "Bloating cramps osmotic diarrhea and other symptoms of irritable bowel syndrome are the consequence and can be seen in about 50 of fructose malabsorbers.\n",
      "As a consequence fructose reaches the colon where it is broken down by bacteria to short fatty acids CO2 H2 CH4 and lactic acid.\n",
      "Invisible disability.\n",
      "Gastroenterology.\n"
     ]
    }
   ],
   "source": [
    "print('Best sentences:\\n')\n",
    "for sentence in best_sentences:\n",
    "    print(sentence)"
   ]
  },
  {
   "cell_type": "markdown",
   "id": "c3aec74f",
   "metadata": {},
   "source": [
    "#### Results Discussion\n",
    "The final implementation of the summarize function successfully processes and summarizes the given text, accounting for various sentence delimiters (.;\\n\\t) and extracting the most relevant sentences.\n",
    "\n",
    "Here's a summary of the process and the findings:\n",
    "\n",
    "The entire corpus of articles was concatenated into a single text string.\n",
    "\n",
    "The summarize function was then applied to this text. The function first replaced various sentence delimiters with periods and ensured that there is a space after each period. It then removed all non-alphanumeric characters except for the standard punctuation marks (.,!?, and ;).\n",
    "\n",
    "The nltk.sent_tokenize function was used to split the text into sentences.\n",
    "\n",
    "The function then processed the sentences, tokenized them, and created a frequency distribution of the words.\n",
    "\n",
    "The 25 most common words were selected, and a score was assigned to each sentence based on the frequency of these common words and their distance from each other.\n",
    "\n",
    "The 25 highest-scoring sentences were then selected as the most relevant sentences.\n",
    "\n",
    "The result is a collection of sentences that highlight the key aspects of the corpus, such as the symptoms of fructose malabsorption, its impacts on gut microbiota and mental health, the role of fructose-to-glucose ratio, foods with high fructose load, and dietary management strategies. The output includes specific details about foods, symptoms, and dietary guidelines. Some sentences like \"Foodlabeling .\" and \"Gastroenterology.\" seem out of context, but this could be due to the lack of context in the original text or the fact that these terms appear frequently in the text, thereby getting a high score.\n",
    "\n",
    "Overall, the summarization function works well for the given text, but there's always room for improvement. For example, the scoring mechanism could be improved by using more advanced techniques such as TF-IDF (Term Frequency-Inverse Document Frequency) or by incorporating a pre-trained language model. Additionally, the function could be modified to handle other non-standard sentence delimiters and formatting issues."
   ]
  },
  {
   "cell_type": "code",
   "execution_count": null,
   "id": "e02a7a1b",
   "metadata": {},
   "outputs": [],
   "source": []
  }
 ],
 "metadata": {
  "kernelspec": {
   "display_name": "Python 3 (ipykernel)",
   "language": "python",
   "name": "python3"
  },
  "language_info": {
   "codemirror_mode": {
    "name": "ipython",
    "version": 3
   },
   "file_extension": ".py",
   "mimetype": "text/x-python",
   "name": "python",
   "nbconvert_exporter": "python",
   "pygments_lexer": "ipython3",
   "version": "3.8.8"
  }
 },
 "nbformat": 4,
 "nbformat_minor": 5
}
